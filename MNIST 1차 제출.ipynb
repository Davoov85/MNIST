{
 "cells": [
  {
   "cell_type": "code",
   "execution_count": 1,
   "source": [
    "import numpy as np\r\n",
    "import pandas as pd\r\n",
    "\r\n",
    "from sklearn.metrics import confusion_matrix\r\n",
    "import itertools\r\n",
    "import tensorflow as tf\r\n",
    "from tensorflow import keras\r\n",
    "from keras.preprocessing.image import ImageDataGenerator\r\n",
    "import matplotlib.pyplot as plt\r\n",
    "import seaborn as sns\r\n",
    "from keras import models\r\n",
    "from keras import layers\r\n",
    "from sklearn.preprocessing import StandardScaler, OneHotEncoder\r\n",
    "from sklearn.compose import make_column_selector, make_column_transformer\r\n",
    "from sklearn.model_selection import train_test_split\r\n",
    "\r\n",
    "\r\n"
   ],
   "outputs": [],
   "metadata": {}
  },
  {
   "cell_type": "code",
   "execution_count": 2,
   "source": [
    "train = pd.read_csv('./train.csv')\r\n",
    "test = pd.read_csv('./test.csv')"
   ],
   "outputs": [],
   "metadata": {}
  },
  {
   "cell_type": "code",
   "execution_count": 3,
   "source": [
    "X = train.drop('label', axis=1)\r\n",
    "y = train['label']"
   ],
   "outputs": [],
   "metadata": {}
  },
  {
   "cell_type": "code",
   "execution_count": 4,
   "source": [
    "X = X/255\r\n",
    "\r\n",
    "x_train, x_test, y_train, y_test = train_test_split(X, y, test_size=0.2)\r\n",
    "\r\n",
    "input_shape = [X.shape[1]]\r\n",
    "print(\"Input shape: {}\".format(input_shape))"
   ],
   "outputs": [
    {
     "output_type": "stream",
     "name": "stdout",
     "text": [
      "Input shape: [784]\n"
     ]
    }
   ],
   "metadata": {}
  },
  {
   "cell_type": "code",
   "execution_count": 5,
   "source": [
    "model = tf.keras.Sequential([\r\n",
    "    tf.keras.layers.Flatten(input_shape=(28, 28)),\r\n",
    "    tf.keras.layers.Dense(128, activation='relu', input_shape=[784]),\r\n",
    "    tf.keras.layers.BatchNormalization(),\r\n",
    "    #tf.keras.layers.Dropout(0.4),\r\n",
    "\r\n",
    "    tf.keras.layers.Dense(64, activation='relu'),\r\n",
    "    tf.keras.layers.Dense(32, activation='relu'),\r\n",
    "    tf.keras.layers.Dense(16, activation='relu'),\r\n",
    "    tf.keras.layers.Dense(10, activation='softmax')\r\n",
    "])"
   ],
   "outputs": [],
   "metadata": {}
  },
  {
   "cell_type": "code",
   "execution_count": 6,
   "source": [
    "model.compile(optimizer='adam', loss=\"sparse_categorical_crossentropy\", metrics=['accuracy'])"
   ],
   "outputs": [],
   "metadata": {}
  },
  {
   "cell_type": "code",
   "execution_count": 7,
   "source": [
    "history = model.fit(\r\n",
    "    x_train,y_train ,\r\n",
    "    epochs=50,\r\n",
    "    batch_size=128,    \r\n",
    "    validation_data =(x_test,y_test)    \r\n",
    ")"
   ],
   "outputs": [
    {
     "output_type": "stream",
     "name": "stdout",
     "text": [
      "Epoch 1/50\n",
      "WARNING:tensorflow:Model was constructed with shape (None, 28, 28) for input KerasTensor(type_spec=TensorSpec(shape=(None, 28, 28), dtype=tf.float32, name='flatten_input'), name='flatten_input', description=\"created by layer 'flatten_input'\"), but it was called on an input with incompatible shape (None, 784).\n",
      "WARNING:tensorflow:Model was constructed with shape (None, 28, 28) for input KerasTensor(type_spec=TensorSpec(shape=(None, 28, 28), dtype=tf.float32, name='flatten_input'), name='flatten_input', description=\"created by layer 'flatten_input'\"), but it was called on an input with incompatible shape (None, 784).\n",
      "257/263 [============================>.] - ETA: 0s - loss: 0.5958 - accuracy: 0.8151WARNING:tensorflow:Model was constructed with shape (None, 28, 28) for input KerasTensor(type_spec=TensorSpec(shape=(None, 28, 28), dtype=tf.float32, name='flatten_input'), name='flatten_input', description=\"created by layer 'flatten_input'\"), but it was called on an input with incompatible shape (None, 784).\n",
      "263/263 [==============================] - 3s 6ms/step - loss: 0.5872 - accuracy: 0.8177 - val_loss: 0.2244 - val_accuracy: 0.9392\n",
      "Epoch 2/50\n",
      "263/263 [==============================] - 2s 6ms/step - loss: 0.1377 - accuracy: 0.9609 - val_loss: 0.1423 - val_accuracy: 0.9570\n",
      "Epoch 3/50\n",
      "263/263 [==============================] - 1s 5ms/step - loss: 0.0902 - accuracy: 0.9722 - val_loss: 0.1242 - val_accuracy: 0.9619\n",
      "Epoch 4/50\n",
      "263/263 [==============================] - 1s 6ms/step - loss: 0.0663 - accuracy: 0.9789 - val_loss: 0.1177 - val_accuracy: 0.9686\n",
      "Epoch 5/50\n",
      "263/263 [==============================] - 2s 6ms/step - loss: 0.0480 - accuracy: 0.9851 - val_loss: 0.1225 - val_accuracy: 0.9645\n",
      "Epoch 6/50\n",
      "263/263 [==============================] - 2s 6ms/step - loss: 0.0400 - accuracy: 0.9871 - val_loss: 0.1429 - val_accuracy: 0.9632\n",
      "Epoch 7/50\n",
      "263/263 [==============================] - 2s 7ms/step - loss: 0.0329 - accuracy: 0.9893 - val_loss: 0.1177 - val_accuracy: 0.9710\n",
      "Epoch 8/50\n",
      "263/263 [==============================] - 2s 7ms/step - loss: 0.0242 - accuracy: 0.9916 - val_loss: 0.1417 - val_accuracy: 0.9655\n",
      "Epoch 9/50\n",
      "263/263 [==============================] - 1s 6ms/step - loss: 0.0204 - accuracy: 0.9931 - val_loss: 0.1216 - val_accuracy: 0.9699\n",
      "Epoch 10/50\n",
      "263/263 [==============================] - 2s 6ms/step - loss: 0.0240 - accuracy: 0.9924 - val_loss: 0.1495 - val_accuracy: 0.9654\n",
      "Epoch 11/50\n",
      "263/263 [==============================] - 2s 6ms/step - loss: 0.0202 - accuracy: 0.9929 - val_loss: 0.1370 - val_accuracy: 0.9705\n",
      "Epoch 12/50\n",
      "263/263 [==============================] - 2s 6ms/step - loss: 0.0155 - accuracy: 0.9951 - val_loss: 0.1484 - val_accuracy: 0.9668\n",
      "Epoch 13/50\n",
      "263/263 [==============================] - 2s 7ms/step - loss: 0.0168 - accuracy: 0.9944 - val_loss: 0.1409 - val_accuracy: 0.9698\n",
      "Epoch 14/50\n",
      "263/263 [==============================] - 2s 8ms/step - loss: 0.0126 - accuracy: 0.9959 - val_loss: 0.1433 - val_accuracy: 0.9682\n",
      "Epoch 15/50\n",
      "263/263 [==============================] - 2s 8ms/step - loss: 0.0165 - accuracy: 0.9945 - val_loss: 0.1408 - val_accuracy: 0.9708\n",
      "Epoch 16/50\n",
      "263/263 [==============================] - 1s 6ms/step - loss: 0.0127 - accuracy: 0.9961 - val_loss: 0.1412 - val_accuracy: 0.9696\n",
      "Epoch 17/50\n",
      "263/263 [==============================] - 1s 5ms/step - loss: 0.0095 - accuracy: 0.9970 - val_loss: 0.1415 - val_accuracy: 0.9699\n",
      "Epoch 18/50\n",
      "263/263 [==============================] - 2s 6ms/step - loss: 0.0111 - accuracy: 0.9965 - val_loss: 0.1680 - val_accuracy: 0.9668\n",
      "Epoch 19/50\n",
      "263/263 [==============================] - 2s 6ms/step - loss: 0.0133 - accuracy: 0.9956 - val_loss: 0.1475 - val_accuracy: 0.9692\n",
      "Epoch 20/50\n",
      "263/263 [==============================] - 1s 5ms/step - loss: 0.0137 - accuracy: 0.9956 - val_loss: 0.1453 - val_accuracy: 0.9685\n",
      "Epoch 21/50\n",
      "263/263 [==============================] - 2s 6ms/step - loss: 0.0116 - accuracy: 0.9959 - val_loss: 0.1382 - val_accuracy: 0.9715\n",
      "Epoch 22/50\n",
      "263/263 [==============================] - 2s 6ms/step - loss: 0.0121 - accuracy: 0.9956 - val_loss: 0.1537 - val_accuracy: 0.9695\n",
      "Epoch 23/50\n",
      "263/263 [==============================] - 2s 6ms/step - loss: 0.0123 - accuracy: 0.9958 - val_loss: 0.1296 - val_accuracy: 0.9740\n",
      "Epoch 24/50\n",
      "263/263 [==============================] - 2s 6ms/step - loss: 0.0068 - accuracy: 0.9977 - val_loss: 0.1467 - val_accuracy: 0.9706\n",
      "Epoch 25/50\n",
      "263/263 [==============================] - 2s 6ms/step - loss: 0.0088 - accuracy: 0.9971 - val_loss: 0.1578 - val_accuracy: 0.9705\n",
      "Epoch 26/50\n",
      "263/263 [==============================] - 2s 6ms/step - loss: 0.0119 - accuracy: 0.9958 - val_loss: 0.1598 - val_accuracy: 0.9696\n",
      "Epoch 27/50\n",
      "263/263 [==============================] - 2s 6ms/step - loss: 0.0103 - accuracy: 0.9965 - val_loss: 0.1451 - val_accuracy: 0.9743\n",
      "Epoch 28/50\n",
      "263/263 [==============================] - 2s 6ms/step - loss: 0.0076 - accuracy: 0.9975 - val_loss: 0.1526 - val_accuracy: 0.9721\n",
      "Epoch 29/50\n",
      "263/263 [==============================] - 2s 6ms/step - loss: 0.0068 - accuracy: 0.9975 - val_loss: 0.1404 - val_accuracy: 0.9737\n",
      "Epoch 30/50\n",
      "263/263 [==============================] - 2s 6ms/step - loss: 0.0109 - accuracy: 0.9965 - val_loss: 0.1882 - val_accuracy: 0.9645\n",
      "Epoch 31/50\n",
      "263/263 [==============================] - 2s 6ms/step - loss: 0.0082 - accuracy: 0.9975 - val_loss: 0.1902 - val_accuracy: 0.9651\n",
      "Epoch 32/50\n",
      "263/263 [==============================] - 2s 6ms/step - loss: 0.0112 - accuracy: 0.9962 - val_loss: 0.1453 - val_accuracy: 0.9718\n",
      "Epoch 33/50\n",
      "263/263 [==============================] - 2s 6ms/step - loss: 0.0061 - accuracy: 0.9979 - val_loss: 0.1429 - val_accuracy: 0.9749\n",
      "Epoch 34/50\n",
      "263/263 [==============================] - 2s 6ms/step - loss: 0.0052 - accuracy: 0.9981 - val_loss: 0.1546 - val_accuracy: 0.9726\n",
      "Epoch 35/50\n",
      "263/263 [==============================] - 2s 6ms/step - loss: 0.0063 - accuracy: 0.9979 - val_loss: 0.1484 - val_accuracy: 0.9737\n",
      "Epoch 36/50\n",
      "263/263 [==============================] - 2s 6ms/step - loss: 0.0045 - accuracy: 0.9983 - val_loss: 0.1551 - val_accuracy: 0.9720\n",
      "Epoch 37/50\n",
      "263/263 [==============================] - 2s 6ms/step - loss: 0.0077 - accuracy: 0.9977 - val_loss: 0.1387 - val_accuracy: 0.9738\n",
      "Epoch 38/50\n",
      "263/263 [==============================] - 2s 6ms/step - loss: 0.0048 - accuracy: 0.9986 - val_loss: 0.1467 - val_accuracy: 0.9754\n",
      "Epoch 39/50\n",
      "263/263 [==============================] - 2s 6ms/step - loss: 0.0064 - accuracy: 0.9979 - val_loss: 0.1682 - val_accuracy: 0.9688\n",
      "Epoch 40/50\n",
      "263/263 [==============================] - 2s 6ms/step - loss: 0.0109 - accuracy: 0.9963 - val_loss: 0.1599 - val_accuracy: 0.9720\n",
      "Epoch 41/50\n",
      "263/263 [==============================] - 2s 6ms/step - loss: 0.0083 - accuracy: 0.9972 - val_loss: 0.1543 - val_accuracy: 0.9726\n",
      "Epoch 42/50\n",
      "263/263 [==============================] - 2s 6ms/step - loss: 0.0038 - accuracy: 0.9987 - val_loss: 0.1587 - val_accuracy: 0.9724\n",
      "Epoch 43/50\n",
      "263/263 [==============================] - 2s 6ms/step - loss: 0.0031 - accuracy: 0.9989 - val_loss: 0.1723 - val_accuracy: 0.9727\n",
      "Epoch 44/50\n",
      "263/263 [==============================] - 2s 6ms/step - loss: 0.0062 - accuracy: 0.9979 - val_loss: 0.1802 - val_accuracy: 0.9683\n",
      "Epoch 45/50\n",
      "263/263 [==============================] - 2s 6ms/step - loss: 0.0069 - accuracy: 0.9981 - val_loss: 0.1540 - val_accuracy: 0.9750\n",
      "Epoch 46/50\n",
      "263/263 [==============================] - 2s 6ms/step - loss: 0.0067 - accuracy: 0.9977 - val_loss: 0.1590 - val_accuracy: 0.9726\n",
      "Epoch 47/50\n",
      "263/263 [==============================] - 2s 6ms/step - loss: 0.0078 - accuracy: 0.9978 - val_loss: 0.1598 - val_accuracy: 0.9714\n",
      "Epoch 48/50\n",
      "263/263 [==============================] - 2s 6ms/step - loss: 0.0065 - accuracy: 0.9983 - val_loss: 0.1549 - val_accuracy: 0.9743\n",
      "Epoch 49/50\n",
      "263/263 [==============================] - 2s 6ms/step - loss: 0.0048 - accuracy: 0.9983 - val_loss: 0.1414 - val_accuracy: 0.9750\n",
      "Epoch 50/50\n",
      "263/263 [==============================] - 2s 6ms/step - loss: 0.0048 - accuracy: 0.9987 - val_loss: 0.1454 - val_accuracy: 0.9740\n"
     ]
    }
   ],
   "metadata": {}
  },
  {
   "cell_type": "code",
   "execution_count": 8,
   "source": [
    "history_df = pd.DataFrame(history.history)\r\n",
    "history_df.loc[:, ['loss', 'val_loss']].plot()"
   ],
   "outputs": [
    {
     "output_type": "execute_result",
     "data": {
      "text/plain": [
       "<AxesSubplot:>"
      ]
     },
     "metadata": {},
     "execution_count": 8
    },
    {
     "output_type": "display_data",
     "data": {
      "image/png": "[encoded data removed]",
      "text/plain": [
       "<Figure size 432x288 with 1 Axes>"
      ]
     },
     "metadata": {
      "needs_background": "light"
     }
    }
   ],
   "metadata": {}
  },
  {
   "cell_type": "code",
   "execution_count": 2,
   "source": [
    "score = history.evaluate(x_test, y_test, verbose=0)\r\n",
    "print('Test loss:', score[0])\r\n",
    "print('Test accuracy:', score[1])"
   ],
   "outputs": [
    {
     "output_type": "error",
     "ename": "NameError",
     "evalue": "name 'history' is not defined",
     "traceback": [
      "\u001b[1;31m---------------------------------------------------------------------------\u001b[0m",
      "\u001b[1;31mNameError\u001b[0m                                 Traceback (most recent call last)",
      "\u001b[1;32m<ipython-input-2-c57dd6c35bbc>\u001b[0m in \u001b[0;36m<module>\u001b[1;34m\u001b[0m\n\u001b[1;32m----> 1\u001b[1;33m \u001b[0mscore\u001b[0m \u001b[1;33m=\u001b[0m \u001b[0mhistory\u001b[0m\u001b[1;33m.\u001b[0m\u001b[0mevaluate\u001b[0m\u001b[1;33m(\u001b[0m\u001b[0mx_test\u001b[0m\u001b[1;33m,\u001b[0m \u001b[0my_test\u001b[0m\u001b[1;33m,\u001b[0m \u001b[0mverbose\u001b[0m\u001b[1;33m=\u001b[0m\u001b[1;36m0\u001b[0m\u001b[1;33m)\u001b[0m\u001b[1;33m\u001b[0m\u001b[1;33m\u001b[0m\u001b[0m\n\u001b[0m\u001b[0;32m      2\u001b[0m \u001b[0mprint\u001b[0m\u001b[1;33m(\u001b[0m\u001b[1;34m'Test loss:'\u001b[0m\u001b[1;33m,\u001b[0m \u001b[0mscore\u001b[0m\u001b[1;33m[\u001b[0m\u001b[1;36m0\u001b[0m\u001b[1;33m]\u001b[0m\u001b[1;33m)\u001b[0m\u001b[1;33m\u001b[0m\u001b[1;33m\u001b[0m\u001b[0m\n\u001b[0;32m      3\u001b[0m \u001b[0mprint\u001b[0m\u001b[1;33m(\u001b[0m\u001b[1;34m'Test accuracy:'\u001b[0m\u001b[1;33m,\u001b[0m \u001b[0mscore\u001b[0m\u001b[1;33m[\u001b[0m\u001b[1;36m1\u001b[0m\u001b[1;33m]\u001b[0m\u001b[1;33m)\u001b[0m\u001b[1;33m\u001b[0m\u001b[1;33m\u001b[0m\u001b[0m\n",
      "\u001b[1;31mNameError\u001b[0m: name 'history' is not defined"
     ]
    }
   ],
   "metadata": {}
  },
  {
   "cell_type": "code",
   "execution_count": 10,
   "source": [
    "submit = pd.DataFrame(np.argmax(model.predict(test), axis=1), columns=['Label'], \r\n",
    "                      index=pd.read_csv('./sample_submission.csv')['ImageId'])"
   ],
   "outputs": [
    {
     "output_type": "stream",
     "name": "stdout",
     "text": [
      "WARNING:tensorflow:Model was constructed with shape (None, 28, 28) for input KerasTensor(type_spec=TensorSpec(shape=(None, 28, 28), dtype=tf.float32, name='flatten_input'), name='flatten_input', description=\"created by layer 'flatten_input'\"), but it was called on an input with incompatible shape (32, 784).\n"
     ]
    }
   ],
   "metadata": {}
  },
  {
   "cell_type": "code",
   "execution_count": 11,
   "source": [
    "submit.index.name = 'ImageID'\r\n",
    "submit.to_csv('submission3.csv')"
   ],
   "outputs": [],
   "metadata": {}
  }
 ],
 "metadata": {
  "orig_nbformat": 4,
  "language_info": {
   "name": "python",
   "version": "3.8.8",
   "mimetype": "text/x-python",
   "codemirror_mode": {
    "name": "ipython",
    "version": 3
   },
   "pygments_lexer": "ipython3",
   "nbconvert_exporter": "python",
   "file_extension": ".py"
  },
  "kernelspec": {
   "name": "python3",
   "display_name": "Python 3.8.8 64-bit ('base': conda)"
  },
  "interpreter": {
   "hash": "934e9733469ba33743180f4f0a45fb5fa97889cb236cef54782b3750effb92db"
  }
 },
 "nbformat": 4,
 "nbformat_minor": 2
}