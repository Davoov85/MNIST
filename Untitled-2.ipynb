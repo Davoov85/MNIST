{
 "cells": [
  {
   "cell_type": "code",
   "execution_count": 1,
   "source": [
    "import numpy as np # linear algebra\r\n",
    "import pandas as pd # data processing, CSV file I/O (e.g. pd.read_csv)\r\n",
    "import numpy as np\r\n",
    "from sklearn.metrics import confusion_matrix\r\n",
    "from sklearn.model_selection import train_test_split\r\n",
    "import itertools\r\n",
    "import tensorflow as tf\r\n",
    "from tensorflow import keras\r\n",
    "from keras.preprocessing.image import ImageDataGenerator\r\n",
    "import matplotlib.pyplot as plt\r\n",
    "import pandas as pd\r\n",
    "import seaborn as sns\r\n",
    "from keras import models\r\n",
    "from keras import layers\r\n",
    "from sklearn.preprocessing import StandardScaler, OneHotEncoder\r\n",
    "from sklearn.compose import make_column_transformer, make_column_selector\r\n",
    "from sklearn.model_selection import train_test_split\r\n",
    "from tensorflow.keras import callbacks\r\n",
    "\r\n",
    "gpus = tf.config.experimental.list_physical_devices('GPU')\r\n",
    "if gpus:\r\n",
    "    #\r\n",
    "    try:\r\n",
    "        tf.config.experimental.set_visible_devices(gpus[0], 'GPU')\r\n",
    "    except RuntimeError as e:\r\n",
    "        \r\n",
    "        print(e)\r\n",
    "\r\n"
   ],
   "outputs": [],
   "metadata": {}
  },
  {
   "cell_type": "code",
   "execution_count": 2,
   "source": [
    "train = pd.read_csv(\"./train.csv\")\r\n",
    "test = pd.read_csv(\"./test.csv\")"
   ],
   "outputs": [],
   "metadata": {}
  },
  {
   "cell_type": "code",
   "execution_count": null,
   "source": [
    "x_train, x_test"
   ],
   "outputs": [],
   "metadata": {}
  },
  {
   "cell_type": "code",
   "execution_count": 3,
   "source": [
    "X = train.drop(\"label\", axis=1)\r\n",
    "y = train[\"label\"]"
   ],
   "outputs": [],
   "metadata": {}
  },
  {
   "cell_type": "code",
   "execution_count": 4,
   "source": [
    "X = X/255.0\r\n",
    "\r\n",
    "x_train , x_test ,y_train , y_test = train_test_split(X,y,test_size = 0.2 )\r\n",
    "\r\n",
    "input_shape = [X.shape[1]]\r\n",
    "print(\"Input shape: {}\".format(input_shape))"
   ],
   "outputs": [
    {
     "output_type": "stream",
     "name": "stdout",
     "text": [
      "Input shape: [784]\n"
     ]
    }
   ],
   "metadata": {}
  },
  {
   "cell_type": "code",
   "execution_count": 5,
   "source": [
    "x_train=x_train.values.reshape(-1, 28, 28, 1)\r\n",
    "x_test=x_test.values.reshape(-1, 28, 28, 1)\r\n"
   ],
   "outputs": [],
   "metadata": {}
  },
  {
   "cell_type": "code",
   "execution_count": 6,
   "source": [
    "model = keras.Sequential([\r\n",
    "\r\n",
    "    layers.Conv2D(filters=128, kernel_size=3, activation='relu', padding='same', input_shape=(28, 28, 1)),\r\n",
    "    layers.MaxPool2D(pool_size=2),\r\n",
    "    \r\n",
    "    layers.Conv2D(filters=64, kernel_size=3, activation='relu'),\r\n",
    "    layers.MaxPool2D(pool_size=2),\r\n",
    "    \r\n",
    "    layers.Conv2D(filters=64, kernel_size=3, activation='relu'),\r\n",
    "    \r\n",
    "    layers.Flatten(),\r\n",
    "    layers.Dense(64,activation = 'relu'),\r\n",
    "    layers.Dense(32,activation = 'relu'),\r\n",
    "    layers.Dense(16,activation='relu'),\r\n",
    "    layers.Dense(10,activation = 'softmax')\r\n",
    "    \r\n",
    "])"
   ],
   "outputs": [],
   "metadata": {}
  },
  {
   "cell_type": "code",
   "execution_count": 7,
   "source": [
    "model.compile(optimizer='adam',loss=\"sparse_categorical_crossentropy\",metrics=['accuracy'])"
   ],
   "outputs": [],
   "metadata": {}
  },
  {
   "cell_type": "code",
   "execution_count": 8,
   "source": [
    "early_stopping = callbacks.EarlyStopping(\r\n",
    "    min_delta=0.001,\r\n",
    "    patience=20,\r\n",
    ")\r\n",
    "\r\n",
    "\r\n",
    "\r\n",
    "history = model.fit(\r\n",
    "    x_train, y_train ,\r\n",
    "    epochs=50,\r\n",
    "    callbacks=[early_stopping],\r\n",
    "    batch_size=200,\r\n",
    "    validation_data =(x_test,y_test)\r\n",
    "    \r\n",
    ")"
   ],
   "outputs": [
    {
     "output_type": "stream",
     "name": "stdout",
     "text": [
      "Epoch 1/50\n",
      "168/168 [==============================] - 12s 23ms/step - loss: 0.6321 - accuracy: 0.7992 - val_loss: 0.1493 - val_accuracy: 0.9582\n",
      "Epoch 2/50\n",
      "168/168 [==============================] - 4s 22ms/step - loss: 0.1132 - accuracy: 0.9669 - val_loss: 0.1020 - val_accuracy: 0.9724\n",
      "Epoch 3/50\n",
      "168/168 [==============================] - 4s 22ms/step - loss: 0.0716 - accuracy: 0.9786 - val_loss: 0.0846 - val_accuracy: 0.9774\n",
      "Epoch 4/50\n",
      "168/168 [==============================] - 4s 22ms/step - loss: 0.0559 - accuracy: 0.9836 - val_loss: 0.0746 - val_accuracy: 0.9780\n",
      "Epoch 5/50\n",
      "168/168 [==============================] - 4s 22ms/step - loss: 0.0422 - accuracy: 0.9872 - val_loss: 0.0543 - val_accuracy: 0.9849\n",
      "Epoch 6/50\n",
      "168/168 [==============================] - 4s 22ms/step - loss: 0.0320 - accuracy: 0.9903 - val_loss: 0.0581 - val_accuracy: 0.9836\n",
      "Epoch 7/50\n",
      "168/168 [==============================] - 4s 22ms/step - loss: 0.0267 - accuracy: 0.9920 - val_loss: 0.0469 - val_accuracy: 0.9874\n",
      "Epoch 8/50\n",
      "168/168 [==============================] - 4s 22ms/step - loss: 0.0256 - accuracy: 0.9921 - val_loss: 0.0649 - val_accuracy: 0.9824\n",
      "Epoch 9/50\n",
      "168/168 [==============================] - 4s 22ms/step - loss: 0.0191 - accuracy: 0.9938 - val_loss: 0.0674 - val_accuracy: 0.9833\n",
      "Epoch 10/50\n",
      "168/168 [==============================] - 4s 22ms/step - loss: 0.0184 - accuracy: 0.9937 - val_loss: 0.0620 - val_accuracy: 0.9855\n",
      "Epoch 11/50\n",
      "168/168 [==============================] - 4s 22ms/step - loss: 0.0160 - accuracy: 0.9948 - val_loss: 0.0580 - val_accuracy: 0.9857\n",
      "Epoch 12/50\n",
      "168/168 [==============================] - 4s 22ms/step - loss: 0.0139 - accuracy: 0.9956 - val_loss: 0.0516 - val_accuracy: 0.9880\n",
      "Epoch 13/50\n",
      "168/168 [==============================] - 4s 22ms/step - loss: 0.0108 - accuracy: 0.9965 - val_loss: 0.0613 - val_accuracy: 0.9867\n",
      "Epoch 14/50\n",
      "168/168 [==============================] - 4s 22ms/step - loss: 0.0104 - accuracy: 0.9964 - val_loss: 0.0630 - val_accuracy: 0.9855\n",
      "Epoch 15/50\n",
      "168/168 [==============================] - 4s 22ms/step - loss: 0.0138 - accuracy: 0.9955 - val_loss: 0.0545 - val_accuracy: 0.9871\n",
      "Epoch 16/50\n",
      "168/168 [==============================] - 4s 23ms/step - loss: 0.0081 - accuracy: 0.9976 - val_loss: 0.0556 - val_accuracy: 0.9885\n",
      "Epoch 17/50\n",
      "168/168 [==============================] - 4s 24ms/step - loss: 0.0047 - accuracy: 0.9987 - val_loss: 0.0533 - val_accuracy: 0.9885\n",
      "Epoch 18/50\n",
      "168/168 [==============================] - 4s 24ms/step - loss: 0.0083 - accuracy: 0.9974 - val_loss: 0.0607 - val_accuracy: 0.9880\n",
      "Epoch 19/50\n",
      "168/168 [==============================] - 4s 24ms/step - loss: 0.0067 - accuracy: 0.9979 - val_loss: 0.0482 - val_accuracy: 0.9899\n",
      "Epoch 20/50\n",
      "168/168 [==============================] - 4s 24ms/step - loss: 0.0100 - accuracy: 0.9968 - val_loss: 0.0534 - val_accuracy: 0.9886\n",
      "Epoch 21/50\n",
      "168/168 [==============================] - 4s 24ms/step - loss: 0.0089 - accuracy: 0.9972 - val_loss: 0.0553 - val_accuracy: 0.9879\n",
      "Epoch 22/50\n",
      "168/168 [==============================] - 4s 24ms/step - loss: 0.0086 - accuracy: 0.9971 - val_loss: 0.0521 - val_accuracy: 0.9894\n",
      "Epoch 23/50\n",
      "168/168 [==============================] - 4s 24ms/step - loss: 0.0047 - accuracy: 0.9988 - val_loss: 0.0609 - val_accuracy: 0.9881\n",
      "Epoch 24/50\n",
      "168/168 [==============================] - 4s 24ms/step - loss: 0.0020 - accuracy: 0.9996 - val_loss: 0.0592 - val_accuracy: 0.9893\n",
      "Epoch 25/50\n",
      "168/168 [==============================] - 4s 24ms/step - loss: 0.0054 - accuracy: 0.9983 - val_loss: 0.0642 - val_accuracy: 0.9868\n",
      "Epoch 26/50\n",
      "168/168 [==============================] - 4s 24ms/step - loss: 0.0105 - accuracy: 0.9965 - val_loss: 0.0580 - val_accuracy: 0.9895\n",
      "Epoch 27/50\n",
      "168/168 [==============================] - 4s 24ms/step - loss: 0.0022 - accuracy: 0.9995 - val_loss: 0.0544 - val_accuracy: 0.9895\n"
     ]
    }
   ],
   "metadata": {}
  },
  {
   "cell_type": "code",
   "execution_count": 9,
   "source": [
    "test_reshape=test.values.reshape(-1,28,28,1)"
   ],
   "outputs": [],
   "metadata": {}
  },
  {
   "cell_type": "code",
   "execution_count": 10,
   "source": [
    "history_df = pd.DataFrame(history.history)\r\n",
    "history_df.loc[:, ['loss', 'val_loss']].plot()"
   ],
   "outputs": [
    {
     "output_type": "execute_result",
     "data": {
      "text/plain": [
       "<AxesSubplot:>"
      ]
     },
     "metadata": {},
     "execution_count": 10
    },
    {
     "output_type": "display_data",
     "data": {
      "image/png": "[encoded data removed]",
      "text/plain": [
       "<Figure size 432x288 with 1 Axes>"
      ]
     },
     "metadata": {
      "needs_background": "light"
     }
    }
   ],
   "metadata": {}
  },
  {
   "cell_type": "code",
   "execution_count": 11,
   "source": [
    "test_loss, test_acc = model.evaluate(x_test, y_test)\r\n",
    "print('acc : ', test_acc)\r\n",
    "print('loss : ', test_loss)"
   ],
   "outputs": [
    {
     "output_type": "stream",
     "name": "stdout",
     "text": [
      "263/263 [==============================] - 1s 4ms/step - loss: 0.0544 - accuracy: 0.9895\n",
      "acc :  0.9895238280296326\n",
      "loss :  0.05442839488387108\n"
     ]
    }
   ],
   "metadata": {}
  },
  {
   "cell_type": "code",
   "execution_count": 12,
   "source": [
    "submit = pd.DataFrame(np.argmax(model.predict(test_reshape), axis=1), columns=['Label'], \r\n",
    "                      index=pd.read_csv('./sample_submission.csv')['ImageId'])"
   ],
   "outputs": [],
   "metadata": {}
  },
  {
   "cell_type": "code",
   "execution_count": 13,
   "source": [
    "submit.index.name = 'ImageId'\r\n",
    "submit.to_csv('submission4.csv')"
   ],
   "outputs": [],
   "metadata": {}
  }
 ],
 "metadata": {
  "orig_nbformat": 4,
  "language_info": {
   "name": "python",
   "version": "3.8.8",
   "mimetype": "text/x-python",
   "codemirror_mode": {
    "name": "ipython",
    "version": 3
   },
   "pygments_lexer": "ipython3",
   "nbconvert_exporter": "python",
   "file_extension": ".py"
  },
  "kernelspec": {
   "name": "python3",
   "display_name": "Python 3.8.8 64-bit ('base': conda)"
  },
  "interpreter": {
   "hash": "934e9733469ba33743180f4f0a45fb5fa97889cb236cef54782b3750effb92db"
  }
 },
 "nbformat": 4,
 "nbformat_minor": 2
}